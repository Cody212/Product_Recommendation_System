{
 "cells": [
  {
   "cell_type": "markdown",
   "id": "33126087",
   "metadata": {},
   "source": [
    "<h2>AIM</h2> \n",
    "To create a recommendation system by first beginning with data exploration and then using 4 different models to create a *product recommender system*.\n",
    "\n",
    "It also answers some key questions to be considered when comparing different models of recommendation systems!\n",
    "\n",
    "<blockquote>Model 1: Random</blockquote>\n",
    "<blockquote>Model 2: User-Based Collaborative Filtering</blockquote>\n",
    "<blockquote>Model 3: Item-Based Collaborative Filtering</blockquote>\n",
    "<blockquote>Model 4: Matrix Factorization</blockquote>"
   ]
  },
  {
   "cell_type": "markdown",
   "id": "99dcdf77",
   "metadata": {},
   "source": [
    "<h2>The Surprise Package</h2>\n",
    "\n",
    "The Surprise package (Simple Python Recommendation System Engine) is an open-source Python library specifically designed for building and evaluating recommendation systems. It provides a range of algorithms for collaborative filtering, matrix factorization, and other recommendation techniques. The Surprise package simplifies the process of creating, training, and evaluating recommendation models by offering a standardized interface and evaluation metrics."
   ]
  },
  {
   "cell_type": "code",
   "execution_count": 2,
   "id": "afb7be2d",
   "metadata": {},
   "outputs": [
    {
     "name": "stdout",
     "output_type": "stream",
     "text": [
      "Collecting scikit-surprise\n",
      "  Downloading scikit-surprise-1.1.3.tar.gz (771 kB)\n",
      "Requirement already satisfied: joblib>=1.0.0 in c:\\users\\udit\\anaconda3\\lib\\site-packages (from scikit-surprise) (1.3.2)\n",
      "Requirement already satisfied: numpy>=1.17.3 in c:\\users\\udit\\anaconda3\\lib\\site-packages (from scikit-surprise) (1.20.1)\n",
      "Requirement already satisfied: scipy>=1.3.2 in c:\\users\\udit\\anaconda3\\lib\\site-packages (from scikit-surprise) (1.6.2)\n",
      "Building wheels for collected packages: scikit-surprise\n",
      "  Building wheel for scikit-surprise (setup.py): started\n",
      "  Building wheel for scikit-surprise (setup.py): finished with status 'done'\n",
      "  Created wheel for scikit-surprise: filename=scikit_surprise-1.1.3-cp38-cp38-win_amd64.whl size=1139642 sha256=dcbcc9f1d1f29c387549f1b46f8fa81654146878f9c0cf53c9ba669bcedbb6e7\n",
      "  Stored in directory: c:\\users\\udit\\appdata\\local\\pip\\cache\\wheels\\af\\db\\86\\2c18183a80ba05da35bf0fb7417aac5cddbd93bcb1b92fd3ea\n",
      "Successfully built scikit-surprise\n",
      "Installing collected packages: scikit-surprise\n",
      "Successfully installed scikit-surprise-1.1.3\n"
     ]
    }
   ],
   "source": [
    "!pip install scikit-surprise\n",
    "import matplotlib.pyplot as plt\n",
    "import numpy as np\n",
    "import pandas as pd\n",
    "from surprise import Reader\n",
    "from surprise import Dataset\n",
    "from surprise import  SVD, NormalPredictor, KNNBasic\n",
    "from surprise.model_selection import cross_validate\n",
    "from surprise import accuracy\n",
    "from IPython.display import display\n",
    "from collections import defaultdict\n",
    "from surprise.model_selection import KFold\n",
    "from surprise.model_selection import train_test_split"
   ]
  },
  {
   "cell_type": "markdown",
   "id": "6bd99a23",
   "metadata": {},
   "source": [
    "<h1>Data Preprocessing</h1>"
   ]
  },
  {
   "cell_type": "code",
   "execution_count": 3,
   "id": "3ea769e4",
   "metadata": {},
   "outputs": [],
   "source": [
    "df = pd.read_csv('amazon.csv')"
   ]
  },
  {
   "cell_type": "code",
   "execution_count": 4,
   "id": "4e04586d",
   "metadata": {},
   "outputs": [
    {
     "data": {
      "text/plain": [
       "(1465, 16)"
      ]
     },
     "execution_count": 4,
     "metadata": {},
     "output_type": "execute_result"
    }
   ],
   "source": [
    "df.shape"
   ]
  },
  {
   "cell_type": "code",
   "execution_count": 5,
   "id": "da5cf803",
   "metadata": {},
   "outputs": [
    {
     "data": {
      "text/html": [
       "<div>\n",
       "<style scoped>\n",
       "    .dataframe tbody tr th:only-of-type {\n",
       "        vertical-align: middle;\n",
       "    }\n",
       "\n",
       "    .dataframe tbody tr th {\n",
       "        vertical-align: top;\n",
       "    }\n",
       "\n",
       "    .dataframe thead th {\n",
       "        text-align: right;\n",
       "    }\n",
       "</style>\n",
       "<table border=\"1\" class=\"dataframe\">\n",
       "  <thead>\n",
       "    <tr style=\"text-align: right;\">\n",
       "      <th></th>\n",
       "      <th>product_id</th>\n",
       "      <th>product_name</th>\n",
       "      <th>category</th>\n",
       "      <th>discounted_price</th>\n",
       "      <th>actual_price</th>\n",
       "      <th>discount_percentage</th>\n",
       "      <th>rating</th>\n",
       "      <th>rating_count</th>\n",
       "      <th>about_product</th>\n",
       "      <th>user_id</th>\n",
       "      <th>user_name</th>\n",
       "      <th>review_id</th>\n",
       "      <th>review_title</th>\n",
       "      <th>review_content</th>\n",
       "      <th>img_link</th>\n",
       "      <th>product_link</th>\n",
       "    </tr>\n",
       "  </thead>\n",
       "  <tbody>\n",
       "    <tr>\n",
       "      <th>0</th>\n",
       "      <td>B07JW9H4J1</td>\n",
       "      <td>Wayona Nylon Braided USB to Lightning Fast Cha...</td>\n",
       "      <td>Computers&amp;Accessories|Accessories&amp;Peripherals|...</td>\n",
       "      <td>₹399</td>\n",
       "      <td>₹1,099</td>\n",
       "      <td>64%</td>\n",
       "      <td>4.2</td>\n",
       "      <td>24,269</td>\n",
       "      <td>High Compatibility : Compatible With iPhone 12...</td>\n",
       "      <td>AG3D6O4STAQKAY2UVGEUV46KN35Q,AHMY5CWJMMK5BJRBB...</td>\n",
       "      <td>Manav,Adarsh gupta,Sundeep,S.Sayeed Ahmed,jasp...</td>\n",
       "      <td>R3HXWT0LRP0NMF,R2AJM3LFTLZHFO,R6AQJGUP6P86,R1K...</td>\n",
       "      <td>Satisfied,Charging is really fast,Value for mo...</td>\n",
       "      <td>Looks durable Charging is fine tooNo complains...</td>\n",
       "      <td>https://m.media-amazon.com/images/W/WEBP_40237...</td>\n",
       "      <td>https://www.amazon.in/Wayona-Braided-WN3LG1-Sy...</td>\n",
       "    </tr>\n",
       "    <tr>\n",
       "      <th>1</th>\n",
       "      <td>B098NS6PVG</td>\n",
       "      <td>Ambrane Unbreakable 60W / 3A Fast Charging 1.5...</td>\n",
       "      <td>Computers&amp;Accessories|Accessories&amp;Peripherals|...</td>\n",
       "      <td>₹199</td>\n",
       "      <td>₹349</td>\n",
       "      <td>43%</td>\n",
       "      <td>4.0</td>\n",
       "      <td>43,994</td>\n",
       "      <td>Compatible with all Type C enabled devices, be...</td>\n",
       "      <td>AECPFYFQVRUWC3KGNLJIOREFP5LQ,AGYYVPDD7YG7FYNBX...</td>\n",
       "      <td>ArdKn,Nirbhay kumar,Sagar Viswanathan,Asp,Plac...</td>\n",
       "      <td>RGIQEG07R9HS2,R1SMWZQ86XIN8U,R2J3Y1WL29GWDE,RY...</td>\n",
       "      <td>A Good Braided Cable for Your Type C Device,Go...</td>\n",
       "      <td>I ordered this cable to connect my phone to An...</td>\n",
       "      <td>https://m.media-amazon.com/images/W/WEBP_40237...</td>\n",
       "      <td>https://www.amazon.in/Ambrane-Unbreakable-Char...</td>\n",
       "    </tr>\n",
       "    <tr>\n",
       "      <th>2</th>\n",
       "      <td>B096MSW6CT</td>\n",
       "      <td>Sounce Fast Phone Charging Cable &amp; Data Sync U...</td>\n",
       "      <td>Computers&amp;Accessories|Accessories&amp;Peripherals|...</td>\n",
       "      <td>₹199</td>\n",
       "      <td>₹1,899</td>\n",
       "      <td>90%</td>\n",
       "      <td>3.9</td>\n",
       "      <td>7,928</td>\n",
       "      <td>【 Fast Charger&amp; Data Sync】-With built-in safet...</td>\n",
       "      <td>AGU3BBQ2V2DDAMOAKGFAWDDQ6QHA,AESFLDV2PT363T2AQ...</td>\n",
       "      <td>Kunal,Himanshu,viswanath,sai niharka,saqib mal...</td>\n",
       "      <td>R3J3EQQ9TZI5ZJ,R3E7WBGK7ID0KV,RWU79XKQ6I1QF,R2...</td>\n",
       "      <td>Good speed for earlier versions,Good Product,W...</td>\n",
       "      <td>Not quite durable and sturdy,https://m.media-a...</td>\n",
       "      <td>https://m.media-amazon.com/images/W/WEBP_40237...</td>\n",
       "      <td>https://www.amazon.in/Sounce-iPhone-Charging-C...</td>\n",
       "    </tr>\n",
       "    <tr>\n",
       "      <th>3</th>\n",
       "      <td>B08HDJ86NZ</td>\n",
       "      <td>boAt Deuce USB 300 2 in 1 Type-C &amp; Micro USB S...</td>\n",
       "      <td>Computers&amp;Accessories|Accessories&amp;Peripherals|...</td>\n",
       "      <td>₹329</td>\n",
       "      <td>₹699</td>\n",
       "      <td>53%</td>\n",
       "      <td>4.2</td>\n",
       "      <td>94,363</td>\n",
       "      <td>The boAt Deuce USB 300 2 in 1 cable is compati...</td>\n",
       "      <td>AEWAZDZZJLQUYVOVGBEUKSLXHQ5A,AG5HTSFRRE6NL3M5S...</td>\n",
       "      <td>Omkar dhale,JD,HEMALATHA,Ajwadh a.,amar singh ...</td>\n",
       "      <td>R3EEUZKKK9J36I,R3HJVYCLYOY554,REDECAZ7AMPQC,R1...</td>\n",
       "      <td>Good product,Good one,Nice,Really nice product...</td>\n",
       "      <td>Good product,long wire,Charges good,Nice,I bou...</td>\n",
       "      <td>https://m.media-amazon.com/images/I/41V5FtEWPk...</td>\n",
       "      <td>https://www.amazon.in/Deuce-300-Resistant-Tang...</td>\n",
       "    </tr>\n",
       "    <tr>\n",
       "      <th>4</th>\n",
       "      <td>B08CF3B7N1</td>\n",
       "      <td>Portronics Konnect L 1.2M Fast Charging 3A 8 P...</td>\n",
       "      <td>Computers&amp;Accessories|Accessories&amp;Peripherals|...</td>\n",
       "      <td>₹154</td>\n",
       "      <td>₹399</td>\n",
       "      <td>61%</td>\n",
       "      <td>4.2</td>\n",
       "      <td>16,905</td>\n",
       "      <td>[CHARGE &amp; SYNC FUNCTION]- This cable comes wit...</td>\n",
       "      <td>AE3Q6KSUK5P75D5HFYHCRAOLODSA,AFUGIFH5ZAFXRDSZH...</td>\n",
       "      <td>rahuls6099,Swasat Borah,Ajay Wadke,Pranali,RVK...</td>\n",
       "      <td>R1BP4L2HH9TFUP,R16PVJEXKV6QZS,R2UPDB81N66T4P,R...</td>\n",
       "      <td>As good as original,Decent,Good one for second...</td>\n",
       "      <td>Bought this instead of original apple, does th...</td>\n",
       "      <td>https://m.media-amazon.com/images/W/WEBP_40237...</td>\n",
       "      <td>https://www.amazon.in/Portronics-Konnect-POR-1...</td>\n",
       "    </tr>\n",
       "  </tbody>\n",
       "</table>\n",
       "</div>"
      ],
      "text/plain": [
       "   product_id                                       product_name  \\\n",
       "0  B07JW9H4J1  Wayona Nylon Braided USB to Lightning Fast Cha...   \n",
       "1  B098NS6PVG  Ambrane Unbreakable 60W / 3A Fast Charging 1.5...   \n",
       "2  B096MSW6CT  Sounce Fast Phone Charging Cable & Data Sync U...   \n",
       "3  B08HDJ86NZ  boAt Deuce USB 300 2 in 1 Type-C & Micro USB S...   \n",
       "4  B08CF3B7N1  Portronics Konnect L 1.2M Fast Charging 3A 8 P...   \n",
       "\n",
       "                                            category discounted_price  \\\n",
       "0  Computers&Accessories|Accessories&Peripherals|...             ₹399   \n",
       "1  Computers&Accessories|Accessories&Peripherals|...             ₹199   \n",
       "2  Computers&Accessories|Accessories&Peripherals|...             ₹199   \n",
       "3  Computers&Accessories|Accessories&Peripherals|...             ₹329   \n",
       "4  Computers&Accessories|Accessories&Peripherals|...             ₹154   \n",
       "\n",
       "  actual_price discount_percentage rating rating_count  \\\n",
       "0       ₹1,099                 64%    4.2       24,269   \n",
       "1         ₹349                 43%    4.0       43,994   \n",
       "2       ₹1,899                 90%    3.9        7,928   \n",
       "3         ₹699                 53%    4.2       94,363   \n",
       "4         ₹399                 61%    4.2       16,905   \n",
       "\n",
       "                                       about_product  \\\n",
       "0  High Compatibility : Compatible With iPhone 12...   \n",
       "1  Compatible with all Type C enabled devices, be...   \n",
       "2  【 Fast Charger& Data Sync】-With built-in safet...   \n",
       "3  The boAt Deuce USB 300 2 in 1 cable is compati...   \n",
       "4  [CHARGE & SYNC FUNCTION]- This cable comes wit...   \n",
       "\n",
       "                                             user_id  \\\n",
       "0  AG3D6O4STAQKAY2UVGEUV46KN35Q,AHMY5CWJMMK5BJRBB...   \n",
       "1  AECPFYFQVRUWC3KGNLJIOREFP5LQ,AGYYVPDD7YG7FYNBX...   \n",
       "2  AGU3BBQ2V2DDAMOAKGFAWDDQ6QHA,AESFLDV2PT363T2AQ...   \n",
       "3  AEWAZDZZJLQUYVOVGBEUKSLXHQ5A,AG5HTSFRRE6NL3M5S...   \n",
       "4  AE3Q6KSUK5P75D5HFYHCRAOLODSA,AFUGIFH5ZAFXRDSZH...   \n",
       "\n",
       "                                           user_name  \\\n",
       "0  Manav,Adarsh gupta,Sundeep,S.Sayeed Ahmed,jasp...   \n",
       "1  ArdKn,Nirbhay kumar,Sagar Viswanathan,Asp,Plac...   \n",
       "2  Kunal,Himanshu,viswanath,sai niharka,saqib mal...   \n",
       "3  Omkar dhale,JD,HEMALATHA,Ajwadh a.,amar singh ...   \n",
       "4  rahuls6099,Swasat Borah,Ajay Wadke,Pranali,RVK...   \n",
       "\n",
       "                                           review_id  \\\n",
       "0  R3HXWT0LRP0NMF,R2AJM3LFTLZHFO,R6AQJGUP6P86,R1K...   \n",
       "1  RGIQEG07R9HS2,R1SMWZQ86XIN8U,R2J3Y1WL29GWDE,RY...   \n",
       "2  R3J3EQQ9TZI5ZJ,R3E7WBGK7ID0KV,RWU79XKQ6I1QF,R2...   \n",
       "3  R3EEUZKKK9J36I,R3HJVYCLYOY554,REDECAZ7AMPQC,R1...   \n",
       "4  R1BP4L2HH9TFUP,R16PVJEXKV6QZS,R2UPDB81N66T4P,R...   \n",
       "\n",
       "                                        review_title  \\\n",
       "0  Satisfied,Charging is really fast,Value for mo...   \n",
       "1  A Good Braided Cable for Your Type C Device,Go...   \n",
       "2  Good speed for earlier versions,Good Product,W...   \n",
       "3  Good product,Good one,Nice,Really nice product...   \n",
       "4  As good as original,Decent,Good one for second...   \n",
       "\n",
       "                                      review_content  \\\n",
       "0  Looks durable Charging is fine tooNo complains...   \n",
       "1  I ordered this cable to connect my phone to An...   \n",
       "2  Not quite durable and sturdy,https://m.media-a...   \n",
       "3  Good product,long wire,Charges good,Nice,I bou...   \n",
       "4  Bought this instead of original apple, does th...   \n",
       "\n",
       "                                            img_link  \\\n",
       "0  https://m.media-amazon.com/images/W/WEBP_40237...   \n",
       "1  https://m.media-amazon.com/images/W/WEBP_40237...   \n",
       "2  https://m.media-amazon.com/images/W/WEBP_40237...   \n",
       "3  https://m.media-amazon.com/images/I/41V5FtEWPk...   \n",
       "4  https://m.media-amazon.com/images/W/WEBP_40237...   \n",
       "\n",
       "                                        product_link  \n",
       "0  https://www.amazon.in/Wayona-Braided-WN3LG1-Sy...  \n",
       "1  https://www.amazon.in/Ambrane-Unbreakable-Char...  \n",
       "2  https://www.amazon.in/Sounce-iPhone-Charging-C...  \n",
       "3  https://www.amazon.in/Deuce-300-Resistant-Tang...  \n",
       "4  https://www.amazon.in/Portronics-Konnect-POR-1...  "
      ]
     },
     "execution_count": 5,
     "metadata": {},
     "output_type": "execute_result"
    }
   ],
   "source": [
    "df.head()"
   ]
  },
  {
   "cell_type": "code",
   "execution_count": 18,
   "id": "1cab91a2",
   "metadata": {},
   "outputs": [],
   "source": [
    "def keep_required_columns(df):\n",
    "    required_columns = ['user_id', 'product_id', 'rating']\n",
    "    columns_to_drop = [col for col in df.columns if col not in required_columns]\n",
    "    df = df.drop(columns=columns_to_drop)\n",
    "    return df\n",
    "\n",
    "data = keep_required_columns(df)"
   ]
  },
  {
   "cell_type": "code",
   "execution_count": 20,
   "id": "9e7a5523",
   "metadata": {},
   "outputs": [
    {
     "name": "stdout",
     "output_type": "stream",
     "text": [
      "<class 'pandas.core.frame.DataFrame'>\n",
      "RangeIndex: 1465 entries, 0 to 1464\n",
      "Data columns (total 3 columns):\n",
      " #   Column      Non-Null Count  Dtype \n",
      "---  ------      --------------  ----- \n",
      " 0   product_id  1465 non-null   object\n",
      " 1   rating      1465 non-null   object\n",
      " 2   user_id     1465 non-null   object\n",
      "dtypes: object(3)\n",
      "memory usage: 34.5+ KB\n"
     ]
    }
   ],
   "source": [
    "data.info()"
   ]
  },
  {
   "cell_type": "code",
   "execution_count": 22,
   "id": "2d2650c0",
   "metadata": {},
   "outputs": [
    {
     "data": {
      "text/html": [
       "<div>\n",
       "<style scoped>\n",
       "    .dataframe tbody tr th:only-of-type {\n",
       "        vertical-align: middle;\n",
       "    }\n",
       "\n",
       "    .dataframe tbody tr th {\n",
       "        vertical-align: top;\n",
       "    }\n",
       "\n",
       "    .dataframe thead th {\n",
       "        text-align: right;\n",
       "    }\n",
       "</style>\n",
       "<table border=\"1\" class=\"dataframe\">\n",
       "  <thead>\n",
       "    <tr style=\"text-align: right;\">\n",
       "      <th></th>\n",
       "      <th>product_id</th>\n",
       "      <th>rating</th>\n",
       "      <th>user_id</th>\n",
       "    </tr>\n",
       "  </thead>\n",
       "  <tbody>\n",
       "    <tr>\n",
       "      <th>0</th>\n",
       "      <td>B07JW9H4J1</td>\n",
       "      <td>4.2</td>\n",
       "      <td>AG3D6O4STAQKAY2UVGEUV46KN35Q,AHMY5CWJMMK5BJRBB...</td>\n",
       "    </tr>\n",
       "    <tr>\n",
       "      <th>1</th>\n",
       "      <td>B098NS6PVG</td>\n",
       "      <td>4.0</td>\n",
       "      <td>AECPFYFQVRUWC3KGNLJIOREFP5LQ,AGYYVPDD7YG7FYNBX...</td>\n",
       "    </tr>\n",
       "    <tr>\n",
       "      <th>2</th>\n",
       "      <td>B096MSW6CT</td>\n",
       "      <td>3.9</td>\n",
       "      <td>AGU3BBQ2V2DDAMOAKGFAWDDQ6QHA,AESFLDV2PT363T2AQ...</td>\n",
       "    </tr>\n",
       "    <tr>\n",
       "      <th>3</th>\n",
       "      <td>B08HDJ86NZ</td>\n",
       "      <td>4.2</td>\n",
       "      <td>AEWAZDZZJLQUYVOVGBEUKSLXHQ5A,AG5HTSFRRE6NL3M5S...</td>\n",
       "    </tr>\n",
       "    <tr>\n",
       "      <th>4</th>\n",
       "      <td>B08CF3B7N1</td>\n",
       "      <td>4.2</td>\n",
       "      <td>AE3Q6KSUK5P75D5HFYHCRAOLODSA,AFUGIFH5ZAFXRDSZH...</td>\n",
       "    </tr>\n",
       "  </tbody>\n",
       "</table>\n",
       "</div>"
      ],
      "text/plain": [
       "   product_id rating                                            user_id\n",
       "0  B07JW9H4J1    4.2  AG3D6O4STAQKAY2UVGEUV46KN35Q,AHMY5CWJMMK5BJRBB...\n",
       "1  B098NS6PVG    4.0  AECPFYFQVRUWC3KGNLJIOREFP5LQ,AGYYVPDD7YG7FYNBX...\n",
       "2  B096MSW6CT    3.9  AGU3BBQ2V2DDAMOAKGFAWDDQ6QHA,AESFLDV2PT363T2AQ...\n",
       "3  B08HDJ86NZ    4.2  AEWAZDZZJLQUYVOVGBEUKSLXHQ5A,AG5HTSFRRE6NL3M5S...\n",
       "4  B08CF3B7N1    4.2  AE3Q6KSUK5P75D5HFYHCRAOLODSA,AFUGIFH5ZAFXRDSZH..."
      ]
     },
     "execution_count": 22,
     "metadata": {},
     "output_type": "execute_result"
    }
   ],
   "source": [
    "data.head()"
   ]
  },
  {
   "cell_type": "markdown",
   "id": "e6207251",
   "metadata": {},
   "source": [
    "<h1>Encoding User and Product IDs</h1>\n",
    "\n",
    "In a recommendation system, it is often necessary to represent user and product identifiers (IDs) as numerical values that can be processed by machine learning algorithms. The provided code snippet achieves this by utilizing the `LabelEncoder` from the `sklearn.preprocessing` module.\n",
    "\n",
    "- The `LabelEncoder` is a handy tool for converting categorical values (such as user and product IDs in string format) into a numerical format. It assigns a unique integer to each distinct value, creating a mapping between original values and encoded integers.\n",
    "\n",
    "- By using the `fit_transform` method, the `LabelEncoder` learns the mapping and transforms the original string IDs into corresponding integer values. These encoded values are then stored in new columns named `user_encoded` and `item_encoded` within the DataFrame `data`.\n",
    "\n",
    "- The code also creates dictionaries `user_mapping` and `item_mapping` to store the correspondence between original IDs and their encoded integer values. This mapping can be useful for interpreting the encoded values back to their original string form if needed.\n",
    "\n",
    "In summary, this code plays a crucial role in converting categorical user and product IDs into numerical format, enabling the dataset to be processed effectively by recommendation algorithms that require numerical input.\n"
   ]
  },
  {
   "cell_type": "code",
   "execution_count": null,
   "id": "674de3d2",
   "metadata": {},
   "outputs": [],
   "source": [
    "from sklearn.preprocessing import LabelEncoder\n",
    "user_encoder = LabelEncoder()\n",
    "item_encoder = LabelEncoder()\n",
    "data['user_encoded'] = user_encoder.fit_transform(data['user_id'])\n",
    "data['item_encoded'] = item_encoder.fit_transform(data['product_id'])\n",
    "user_mapping = dict(zip(user_encoder.classes_, user_encoder.transform(user_encoder.classes_)))\n",
    "item_mapping = dict(zip(item_encoder.classes_, item_encoder.transform(item_encoder.classes_)))"
   ]
  },
  {
   "cell_type": "code",
   "execution_count": 27,
   "id": "58ee305d",
   "metadata": {},
   "outputs": [
    {
     "data": {
      "text/html": [
       "<div>\n",
       "<style scoped>\n",
       "    .dataframe tbody tr th:only-of-type {\n",
       "        vertical-align: middle;\n",
       "    }\n",
       "\n",
       "    .dataframe tbody tr th {\n",
       "        vertical-align: top;\n",
       "    }\n",
       "\n",
       "    .dataframe thead th {\n",
       "        text-align: right;\n",
       "    }\n",
       "</style>\n",
       "<table border=\"1\" class=\"dataframe\">\n",
       "  <thead>\n",
       "    <tr style=\"text-align: right;\">\n",
       "      <th></th>\n",
       "      <th>product_id</th>\n",
       "      <th>rating</th>\n",
       "      <th>user_id</th>\n",
       "      <th>user_encoded</th>\n",
       "      <th>item_encoded</th>\n",
       "    </tr>\n",
       "  </thead>\n",
       "  <tbody>\n",
       "    <tr>\n",
       "      <th>0</th>\n",
       "      <td>B07JW9H4J1</td>\n",
       "      <td>4.2</td>\n",
       "      <td>AG3D6O4STAQKAY2UVGEUV46KN35Q,AHMY5CWJMMK5BJRBB...</td>\n",
       "      <td>623</td>\n",
       "      <td>346</td>\n",
       "    </tr>\n",
       "    <tr>\n",
       "      <th>1</th>\n",
       "      <td>B098NS6PVG</td>\n",
       "      <td>4.0</td>\n",
       "      <td>AECPFYFQVRUWC3KGNLJIOREFP5LQ,AGYYVPDD7YG7FYNBX...</td>\n",
       "      <td>88</td>\n",
       "      <td>848</td>\n",
       "    </tr>\n",
       "    <tr>\n",
       "      <th>2</th>\n",
       "      <td>B096MSW6CT</td>\n",
       "      <td>3.9</td>\n",
       "      <td>AGU3BBQ2V2DDAMOAKGFAWDDQ6QHA,AESFLDV2PT363T2AQ...</td>\n",
       "      <td>849</td>\n",
       "      <td>819</td>\n",
       "    </tr>\n",
       "    <tr>\n",
       "      <th>3</th>\n",
       "      <td>B08HDJ86NZ</td>\n",
       "      <td>4.2</td>\n",
       "      <td>AEWAZDZZJLQUYVOVGBEUKSLXHQ5A,AG5HTSFRRE6NL3M5S...</td>\n",
       "      <td>254</td>\n",
       "      <td>643</td>\n",
       "    </tr>\n",
       "    <tr>\n",
       "      <th>4</th>\n",
       "      <td>B08CF3B7N1</td>\n",
       "      <td>4.2</td>\n",
       "      <td>AE3Q6KSUK5P75D5HFYHCRAOLODSA,AFUGIFH5ZAFXRDSZH...</td>\n",
       "      <td>17</td>\n",
       "      <td>588</td>\n",
       "    </tr>\n",
       "  </tbody>\n",
       "</table>\n",
       "</div>"
      ],
      "text/plain": [
       "   product_id rating                                            user_id  \\\n",
       "0  B07JW9H4J1    4.2  AG3D6O4STAQKAY2UVGEUV46KN35Q,AHMY5CWJMMK5BJRBB...   \n",
       "1  B098NS6PVG    4.0  AECPFYFQVRUWC3KGNLJIOREFP5LQ,AGYYVPDD7YG7FYNBX...   \n",
       "2  B096MSW6CT    3.9  AGU3BBQ2V2DDAMOAKGFAWDDQ6QHA,AESFLDV2PT363T2AQ...   \n",
       "3  B08HDJ86NZ    4.2  AEWAZDZZJLQUYVOVGBEUKSLXHQ5A,AG5HTSFRRE6NL3M5S...   \n",
       "4  B08CF3B7N1    4.2  AE3Q6KSUK5P75D5HFYHCRAOLODSA,AFUGIFH5ZAFXRDSZH...   \n",
       "\n",
       "   user_encoded  item_encoded  \n",
       "0           623           346  \n",
       "1            88           848  \n",
       "2           849           819  \n",
       "3           254           643  \n",
       "4            17           588  "
      ]
     },
     "execution_count": 27,
     "metadata": {},
     "output_type": "execute_result"
    }
   ],
   "source": [
    "data.head()"
   ]
  },
  {
   "cell_type": "code",
   "execution_count": 33,
   "id": "35700c2e",
   "metadata": {},
   "outputs": [
    {
     "data": {
      "image/png": "[encoded data removed]",
      "text/plain": [
       "<Figure size 432x288 with 1 Axes>"
      ]
     },
     "metadata": {
      "needs_background": "light"
     },
     "output_type": "display_data"
    }
   ],
   "source": [
    "data.rating.hist(bins=25)\n",
    "plt.show()"
   ]
  },
  {
   "cell_type": "code",
   "execution_count": 34,
   "id": "4c1baf22",
   "metadata": {},
   "outputs": [
    {
     "data": {
      "image/png": "[encoded data removed]",
      "text/plain": [
       "<Figure size 432x288 with 1 Axes>"
      ]
     },
     "metadata": {
      "needs_background": "light"
     },
     "output_type": "display_data"
    }
   ],
   "source": [
    "data.rating.hist()\n",
    "plt.show()"
   ]
  },
  {
   "cell_type": "markdown",
   "id": "81ca631a",
   "metadata": {},
   "source": [
    "<h1>Understanding Dataset Sparsity</h1>\n",
    "\n",
    "In the context of recommendation systems, dataset sparsity refers to the proportion of missing or unobserved ratings in the user-item interaction matrix. This concept is crucial because it reflects the extent to which users have interacted with a subset of items within the system. A sparser dataset implies that many potential user-item interactions are missing, making it challenging to predict users' preferences accurately.\n",
    "\n",
    "In the provided code snippet, the sparsity of the dataset is calculated using the formula:\n",
    "<blockquote>**Sparsity = (Number of Ratings) / (Number of Users * Number of Items)**</blockquote>\n",
    "\n",
    "\n",
    "The calculated sparsity value is then multiplied by 100 to express it as a percentage. A lower sparsity percentage indicates a denser dataset with more interactions, which can lead to better recommendation accuracy. Conversely, a higher sparsity percentage suggests that a large portion of user-item pairs is unobserved, requiring sophisticated recommendation algorithms to make accurate predictions and suggestions.\n"
   ]
  },
  {
   "cell_type": "code",
   "execution_count": 37,
   "id": "c52bb833",
   "metadata": {},
   "outputs": [
    {
     "name": "stdout",
     "output_type": "stream",
     "text": [
      "Sparsity of Dataset is 0.0908192578981758 Percent\n"
     ]
    }
   ],
   "source": [
    "num_ratings = float(len(data))\n",
    "num_products = float(len(np.unique(data[\"item_encoded\"])))\n",
    "num_users = float(len(np.unique(data[\"user_encoded\"])))\n",
    "sparsity = (num_ratings / (num_products * num_users)) * 100.0\n",
    "print(\"Sparsity of Dataset is\", sparsity, \"Percent\")"
   ]
  },
  {
   "cell_type": "code",
   "execution_count": 49,
   "id": "39778329",
   "metadata": {},
   "outputs": [],
   "source": [
    "data = data[data['rating'] != '|']"
   ]
  },
  {
   "cell_type": "markdown",
   "id": "6c22d31a",
   "metadata": {},
   "source": [
    "<h1>Cross-Validation</h1>\n",
    "\n",
    "Cross-validation is a fundamental technique we heavily employ in our code for both training and evaluating our recommendation models. This approach expands upon the concept of a single train-test split that you're likely familiar with.\n",
    "\n",
    "However, we're taking a more comprehensive approach by conducting multiple data splits. Each of these splits is referred to as a **\"fold\"**. In our case, the parameter \"k\" denotes the number of folds we utilize, and a common choice is k=5.\n",
    "\n",
    "In simpler terms, instead of relying on just one division of the data, we're diversifying our training and evaluation by considering several different divisions. This helps ensure that our models' performance metrics are not overly dependent on a single data partition, contributing to a more reliable assessment of their real-world applicability.\n",
    "\n",
    "This image provides a visual explanation of how cross validation works.\n",
    "\n",
    "<img src = \"https://www.researchgate.net/profile/Mingchao-Li/publication/331209203/figure/fig2/AS:728070977748994@1550597056956/K-fold-cross-validation-method.png\" width=\"450\">\n",
    "\n",
    "We will use **\"cross_validate\"** from surprise package to run the models as listed and check their respective RMSEs"
   ]
  },
  {
   "cell_type": "markdown",
   "id": "220ad77d",
   "metadata": {},
   "source": [
    "<h3>Coverting data in to surprise dataset</h3>\n",
    "<blockquote>The Surprise package facilitates the conversion of the existing DataFrame into a format suitable for recommendation modeling.</blockquote>\n",
    "<blockquote>The Reader class is employed to define the scaling and formatting of ratings within the dataset.</blockquote>\n",
    "<blockquote>The Dataset.load_from_df method loads the DataFrame into a Surprise Dataset object.</blockquote>"
   ]
  },
  {
   "cell_type": "code",
   "execution_count": 52,
   "id": "885a9331",
   "metadata": {},
   "outputs": [],
   "source": [
    "#coverting data in to surprise dataset\n",
    "reader = Reader(rating_scale=(1,5))\n",
    "data = Dataset.load_from_df(data[['user_encoded', 'item_encoded', 'rating']], reader)"
   ]
  },
  {
   "cell_type": "markdown",
   "id": "eb0467fd",
   "metadata": {},
   "source": [
    "<h1>Model 1: Random</h1>\n",
    "\n",
    "<h3>Baseline Random Prediction:</h3>\n",
    "\n",
    "<li>NormalPredictor is a non-personalized algorithm used to establish a baseline performance for recommendation systems.</li>\n",
    "<li>It does not consider user preferences, past interactions, or item characteristics; instead, it relies solely on randomness.</li>\n",
    "\n",
    "<h3>Distribution-Based Prediction:</h3>\n",
    "\n",
    "<li>The algorithm assumes that the distribution of ratings in the training set resembles a normal distribution.</li>\n",
    "<li>It generates random ratings for user-item pairs based on this assumed normal distribution.</li>\n",
    "\n",
    "The evaluation of the `NormalPredictor` baseline model using cross-validation yielded an average **RMSE (Root Mean Squared Error)** value of approximately 0.42 for the test set. This indicates that the random predictions generated by the `NormalPredictor` algorithm deviate from the actual ratings by an average of 0.42 units. While this result provides a baseline benchmark, it highlights the importance of employing more advanced recommendation algorithms that can significantly outperform the simple random-based predictions in delivering accurate and personalized product recommendations."
   ]
  },
  {
   "cell_type": "code",
   "execution_count": 53,
   "id": "98d70e3f",
   "metadata": {},
   "outputs": [],
   "source": [
    "#Algorithm predicting a random rating based on the distribution of the training set, which is assumed to be normal.\n",
    "model_random = NormalPredictor()\n",
    "print('Average RMSE for Test Set using {} is '.format(model_random.__class__.__name__),model_using_normal_predictor['test_rmse'].mean())"
   ]
  },
  {
   "cell_type": "code",
   "execution_count": 54,
   "id": "3785d21e",
   "metadata": {},
   "outputs": [],
   "source": [
    "model_using_normal_predictor = cross_validate(model_random, data,measures=['RMSE'],cv=5, verbose=False)"
   ]
  },
  {
   "cell_type": "code",
   "execution_count": 55,
   "id": "730b9e11",
   "metadata": {},
   "outputs": [
    {
     "name": "stdout",
     "output_type": "stream",
     "text": [
      "Average RMSE for Test Set using NormalPredictor is  0.420520642073955\n"
     ]
    }
   ],
   "source": [
    "print('Average RMSE for Test Set using {} is '.format(model_random.__class__.__name__),model_using_normal_predictor['test_rmse'].mean())"
   ]
  },
  {
   "cell_type": "markdown",
   "id": "cc00280e",
   "metadata": {},
   "source": [
    "<h1>Model 2: User-Based Collaborative Filtering:</h1>\n",
    "\n",
    "- Technique based on user-user similarity to make recommendations.\n",
    "- Predicts items a user might like by analyzing ratings from similar users.\n",
    "- In our implementation, we have implemented User-Based Collaborative Filtering using the KNNBasic algorithm with cosine similarity. This involves calculating the similarity between users based on their interactions with products. Users who have shown similar patterns of behavior are considered \"neighbors.\"\n",
    "\n",
    "This image provides a visual explanation of how user-based collaborative filtering works.\n",
    "\n",
    "<img src=\"cf_un.png\" width=300>\n"
   ]
  },
  {
   "cell_type": "markdown",
   "id": "da0b0071",
   "metadata": {},
   "source": [
    "<h3>KNNBasic Algorithm:</h3>\n",
    "\n",
    "- Part of Surprise package, stands for k-Nearest Neighbors Basic.\n",
    "- Identifies k nearest neighbors to the target user based on similarity.\n",
    "- Predicts ratings using neighbors' ratings.\n",
    "\n",
    "<h3>sim_options Parameter:</h3>\n",
    "\n",
    "- name='cosine': Uses cosine similarity to measure user similarity.\n",
    "- user_base=True: Focuses on finding similar users for predictions.\n",
    "- verbose=False: Suppresses verbose output during model evaluation.\n",
    "\n",
    "<h3>Cross-Validation and Evaluation:</h3>\n",
    "\n",
    "- cross_validate function evaluates model_user_based.\n",
    "- Uses RMSE as the evaluation metric.\n",
    "- Performs 5-fold cross-validation (cv=5).\n"
   ]
  },
  {
   "cell_type": "code",
   "execution_count": 56,
   "id": "ee4ec9ca",
   "metadata": {},
   "outputs": [],
   "source": [
    "model_user_based = KNNBasic(sim_options ={'name':'cosine','user_base':True},verbose=False)\n",
    "model_using_KNNbasic_cos_user = cross_validate(model_user_based,data,measures=['RMSE'],cv=5, verbose=False)"
   ]
  },
  {
   "cell_type": "code",
   "execution_count": 57,
   "id": "a6e00203",
   "metadata": {},
   "outputs": [
    {
     "name": "stdout",
     "output_type": "stream",
     "text": [
      "Average RMSE for Test Set using KNNBasic is  0.28154917475814367\n"
     ]
    }
   ],
   "source": [
    "print('Average RMSE for Test Set using {} is '.format(model_user_based.__class__.__name__),model_using_KNNbasic_cos_user['test_rmse'].mean())"
   ]
  },
  {
   "cell_type": "markdown",
   "id": "feccc056",
   "metadata": {},
   "source": [
    "<h1>Model 3: Item-Based Collaborative Filtering:</h1>\n",
    "\n",
    "- Item-Based Collaborative Filtering is a technique used to recommend items to users by identifying items that are similar to the ones they have interacted with or rated positively. \n",
    "- This approach assumes that users who liked a particular item are likely to also enjoy similar items. \n",
    "- In contrast to User-Based Collaborative Filtering that focuses on finding similar users, Item-Based Collaborative Filtering focuses on finding similar items.\n",
    "- Similar to user-based collaborative filtering, we've implemented the KNNBasic algorithm for item-based collaborative filtering by configuring it with cosine similarity and evaluating its performance using RMSE through cross-validation.\n",
    "\n",
    "This image provides a visual explanation of how item-based collaborative filtering works.\n",
    "\n",
    "<img src=\"cf_ib.png\" width=300>"
   ]
  },
  {
   "cell_type": "code",
   "execution_count": 58,
   "id": "9ddba3f3",
   "metadata": {},
   "outputs": [],
   "source": [
    "model_item_based = KNNBasic(sim_options ={'name':'cosine','user_base':False},verbose=False)\n",
    "model_using_KNNbasic_cos_item = cross_validate(model_item_based,data,measures=['RMSEprint('Average RMSE for Test Set using {} is '.format(model_item_based.__class__.__name__),model_using_KNNbasic_cos_item['test_rmse'].mean())'],cv=5, verbose=False)"
   ]
  },
  {
   "cell_type": "code",
   "execution_count": 59,
   "id": "75341f3e",
   "metadata": {},
   "outputs": [
    {
     "name": "stdout",
     "output_type": "stream",
     "text": [
      "Average RMSE for Test Set using KNNBasic is  0.2808486682356751\n"
     ]
    }
   ],
   "source": [
    "print('Average RMSE for Test Set using {} is '.format(model_item_based.__class__.__name__),model_using_KNNbasic_cos_item['test_rmse'].mean())"
   ]
  },
  {
   "cell_type": "markdown",
   "id": "a11fc1d5",
   "metadata": {},
   "source": [
    "<h1>Matrix Factorization and SVD:</h1>\n",
    "\n",
    "- Matrix Factorization is a technique used to identify underlying patterns in a user-item rating matrix.\n",
    "- Singular Value Decomposition (SVD) is a popular matrix factorization technique applied in recommendation systems.\n",
    "\n",
    "<h3>Approach and Goal:</h3>\n",
    "\n",
    "- The goal is to predict user ratings by identifying latent features that explain the relationships between users and items.\n",
    "- The technique uncovers hidden patterns and preferences in the user-item interaction matrix.\n",
    "\n",
    "<h3>Implementation Steps:</h3>\n",
    "\n",
    "- Model Initialization: Initializing an instance of the SVD algorithm for matrix factorization.\n",
    "- Cross-Validation and Evaluation: You use the cross_validate function to evaluate the performance of model_svd using 5-fold cross-validation.\n",
    "  - The evaluation metric is set to RMSE (measures=['RMSE']).\n",
    "  - The verbose=False parameter suppresses verbose output during model evaluation.\n",
    "\n",
    "<h3>Print Result:</h3> \n",
    "\n",
    "- The average RMSE value calculated from the cross-validation process using the model_svd algorithm."
   ]
  },
  {
   "cell_type": "markdown",
   "id": "35639072",
   "metadata": {},
   "source": [
    "<h1>Singular Value Decomposition</h1>\n",
    "\n",
    "- The Singular Value Decomposition (SVD), a method from linear algebra that has been generally used as a dimensionality reduction technique in machine learning. \n",
    "- SVD is a matrix factorisation technique, which reduces the number of features of a dataset by reducing the space dimension from N-dimension to K-dimension (where K<N). \n",
    "- It uses a matrix structure where each row represents a user, and each column represents an item. \n",
    "- The elements of this matrix are the ratings that are given to items by users.\n",
    "\n",
    "This image provides a visual explanation of how SVD works.\n",
    "\n",
    "<img src=\"https://www.i2tutorials.com/wp-content/media/2019/10/Singular-Value-Decomposition-i2tutorials.png\" width=700>"
   ]
  },
  {
   "cell_type": "code",
   "execution_count": 60,
   "id": "efdb2746",
   "metadata": {},
   "outputs": [],
   "source": [
    "#matrix factorisation using svd\n",
    "model_svd = SVD()\n",
    "model_using_svd = cross_validate(model_svd,data,measures=['RMSE'],cv=5, verbose=False)"
   ]
  },
  {
   "cell_type": "code",
   "execution_count": 61,
   "id": "031a6c6b",
   "metadata": {},
   "outputs": [
    {
     "name": "stdout",
     "output_type": "stream",
     "text": [
      "Average RMSE for Test Set using SVD is  0.2833335882361503\n"
     ]
    }
   ],
   "source": [
    "print('Average RMSE for Test Set using {} is '.format(model_svd.__class__.__name__),model_using_svd['test_rmse'].mean())"
   ]
  },
  {
   "cell_type": "markdown",
   "id": "cb4356cf",
   "metadata": {},
   "source": [
    "<h1>Precision and Recall</h1>\n",
    "\n",
    "<h3>Precision</h3>\n",
    "\n",
    "- Precision is the ratio of correctly predicted relevant items to the total number of items predicted as relevant. \n",
    "- In the context of recommendations, it measures how accurate the system is in suggesting items that the user would actually like.\n",
    "- It is defined as follows:\n",
    "<img src='https://cdn.analyticsvidhya.com/wp-content/uploads/2019/09/prec.png'>\n",
    "\n",
    "<h3>Recall</h3>\n",
    "\n",
    "- Recall is the ratio of correctly predicted relevant items to the total number of actually relevant items. \n",
    "- It measures the system's ability to retrieve all relevant items for the user.\n",
    "- It is defined as follows:\n",
    "<img src='https://cdn.analyticsvidhya.com/wp-content/uploads/2019/09/recall.png'>"
   ]
  },
  {
   "cell_type": "code",
   "execution_count": 62,
   "id": "26a93090",
   "metadata": {},
   "outputs": [],
   "source": [
    "def precision_recall_at_k(predictions, k=10, threshold=3.5):\n",
    "    \"\"\"Return precision and recall at k metrics for each user\"\"\"\n",
    "\n",
    "    # First map the predictions to each user.\n",
    "    user_est_true = defaultdict(list)\n",
    "    for uid, _, true_r, est, _ in predictions:\n",
    "        user_est_true[uid].append((est, true_r))\n",
    "\n",
    "    precisions = dict()\n",
    "    recalls = dict()\n",
    "    for uid, user_ratings in user_est_true.items():\n",
    "\n",
    "        # Sort user ratings by estimated value\n",
    "        user_ratings.sort(key=lambda x: x[0], reverse=True)\n",
    "\n",
    "        # Number of relevant items\n",
    "        n_rel = sum((true_r >= threshold) for (_, true_r) in user_ratings)\n",
    "\n",
    "        # Number of recommended items in top k\n",
    "        n_rec_k = sum((est >= threshold) for (est, _) in user_ratings[:k])\n",
    "\n",
    "        # Number of relevant and recommended items in top k\n",
    "        n_rel_and_rec_k = sum(((true_r >= threshold) and (est >= threshold))\n",
    "                              for (est, true_r) in user_ratings[:k])\n",
    "\n",
    "        # Precision@K: Proportion of recommended items that are relevant\n",
    "        # When n_rec_k is 0, Precision is undefined. We here set it to 0.\n",
    "\n",
    "        precisions[uid] = n_rel_and_rec_k / n_rec_k if n_rec_k != 0 else 0\n",
    "\n",
    "        # Recall@K: Proportion of relevant items that are recommended\n",
    "        # When n_rel is 0, Recall is undefined. We here set it to 0.\n",
    "\n",
    "        recalls[uid] = n_rel_and_rec_k / n_rel if n_rel != 0 else 0\n",
    "\n",
    "    return precisions, recalls"
   ]
  },
  {
   "cell_type": "code",
   "execution_count": 63,
   "id": "f0fdbe8a",
   "metadata": {},
   "outputs": [],
   "source": [
    "#A basic cross-validation iterator.\n",
    "kf = KFold(n_splits=5)"
   ]
  },
  {
   "cell_type": "code",
   "execution_count": 64,
   "id": "366541c1",
   "metadata": {},
   "outputs": [
    {
     "name": "stdout",
     "output_type": "stream",
     "text": [
      "> k=5, model=NormalPredictor\n",
      "-----> Precision:  0.949\n",
      "-----> Recall:  0.948\n",
      "> k=5, model=KNNBasic\n",
      "-----> Precision:  0.97\n",
      "-----> Recall:  0.97\n",
      "> k=5, model=KNNBasic\n",
      "-----> Precision:  0.97\n",
      "-----> Recall:  0.97\n",
      "> k=5, model=SVD\n",
      "-----> Precision:  0.97\n",
      "-----> Recall:  0.97\n",
      "> k=10, model=NormalPredictor\n",
      "-----> Precision:  0.942\n",
      "-----> Recall:  0.941\n",
      "> k=10, model=KNNBasic\n",
      "-----> Precision:  0.97\n",
      "-----> Recall:  0.97\n",
      "> k=10, model=KNNBasic\n",
      "-----> Precision:  0.971\n",
      "-----> Recall:  0.971\n",
      "> k=10, model=SVD\n",
      "-----> Precision:  0.97\n",
      "-----> Recall:  0.97\n"
     ]
    }
   ],
   "source": [
    "# Make list of k values\n",
    "K = [5, 10]\n",
    "\n",
    "# Make list of models\n",
    "models = [model_random, model_user_based, model_item_based, model_svd]\n",
    "\n",
    "for k in K:\n",
    "    for model in models:\n",
    "        print('> k={}, model={}'.format(k,model.__class__.__name__))\n",
    "        p = []\n",
    "        r = []\n",
    "        for trainset, testset in kf.split(data):\n",
    "            model.fit(trainset)\n",
    "            predictions = model.test(testset, verbose=False)\n",
    "            precisions, recalls = precision_recall_at_k(predictions, k=k, threshold=3.5)\n",
    "\n",
    "            # Precision and recall can then be averaged over all users\n",
    "            p.append(sum(prec for prec in precisions.values()) / len(precisions))\n",
    "            r.append(sum(rec for rec in recalls.values()) / len(recalls))\n",
    "        \n",
    "        print('-----> Precision: ', round(sum(p) / len(p), 3))\n",
    "        print('-----> Recall: ', round(sum(r) / len(r), 3))"
   ]
  },
  {
   "cell_type": "code",
   "execution_count": 65,
   "id": "50d1b587",
   "metadata": {},
   "outputs": [],
   "source": [
    "#function can be found on surprise documentation FAQs\n",
    "def get_top_n(predictions, n=10):\n",
    "    \"\"\"Return the top-N recommendation for each user from a set of predictions.\n",
    "\n",
    "    Args:\n",
    "        predictions(list of Prediction objects): The list of predictions, as\n",
    "            returned by the test method of an algorithm.\n",
    "        n(int): The number of recommendation to output for each user. Default\n",
    "            is 10.\n",
    "\n",
    "    Returns:\n",
    "    A dict where keys are user (raw) ids and values are lists of tuples:\n",
    "        [(raw item id, rating estimation), ...] of size n.\n",
    "    \"\"\"\n",
    "\n",
    "    # First map the predictions to each user.\n",
    "    top_n = defaultdict(list)\n",
    "    for uid, iid, true_r, est, _ in predictions:\n",
    "        top_n[uid].append((iid, est))\n",
    "\n",
    "    # Then sort the predictions for each user and retrieve the k highest ones.\n",
    "    for uid, user_ratings in top_n.items():\n",
    "        user_ratings.sort(key=lambda x: x[1], reverse=True)\n",
    "        top_n[uid] = user_ratings[:n]\n",
    "\n",
    "    return top_n"
   ]
  },
  {
   "cell_type": "code",
   "execution_count": 66,
   "id": "3e997065",
   "metadata": {},
   "outputs": [],
   "source": [
    "trainset = data.build_full_trainset()\n",
    "testset = trainset.build_anti_testset()"
   ]
  },
  {
   "cell_type": "code",
   "execution_count": 67,
   "id": "90408b33",
   "metadata": {},
   "outputs": [
    {
     "name": "stdout",
     "output_type": "stream",
     "text": [
      "model: NormalPredictor, 623: [[ 903.      4.94]\n",
      " [1032.      4.93]\n",
      " [1213.      4.92]\n",
      " [ 658.      4.9 ]\n",
      " [ 377.      4.89]]\n",
      "model: KNNBasic, 623: [[848.    4.1]\n",
      " [819.    4.1]\n",
      " [643.    4.1]\n",
      " [588.    4.1]\n",
      " [771.    4.1]]\n",
      "model: KNNBasic, 623: [[848.    4.1]\n",
      " [819.    4.1]\n",
      " [643.    4.1]\n",
      " [588.    4.1]\n",
      " [771.    4.1]]\n",
      "model: SVD, 623: [[111.     4.45]\n",
      " [240.     4.45]\n",
      " [890.     4.45]\n",
      " [  6.     4.44]\n",
      " [193.     4.44]]\n"
     ]
    }
   ],
   "source": [
    "models = [model_random, model_user_based, model_item_based, model_svd]\n",
    "for model in models:\n",
    "    model.fit(trainset)\n",
    "    predictions = model.test(testset)\n",
    "    top_n = get_top_n(predictions, n=5)\n",
    "    # Print the first one\n",
    "    user = list(top_n.keys())[0]\n",
    "    print(f'model: {model.__class__.__name__}, {user}: {np.round(top_n[user],2)}')"
   ]
  },
  {
   "cell_type": "markdown",
   "id": "996eb585",
   "metadata": {},
   "source": [
    "<h1>Result</h1>\n",
    "\n",
    "The outcome highlights the differences in recommendations provided by various models. While the NormalPredictor and KNNBasic models seem to offer less personalized and uniform recommendations, the SVD model demonstrates a better attempt at capturing user preferences. This outcome underscores the importance of model selection and evaluation for generating meaningful and relevant recommendations in a personalized product ranking system.\n",
    "\n",
    "As expected, we have got the predictions (n=5) for each model. We printed the predictions for One user for each model. Collaborative models (User-based & Item-based) have given exactly same recommendations.\n",
    "\n",
    "The rating values for Random is fixed at 4.9, User-based,and Item-based is fixed at 4.1. The rating values for Matrix Factorization using SVD have a mean of 4.45."
   ]
  },
  {
   "cell_type": "code",
   "execution_count": null,
   "id": "9f7da4a0",
   "metadata": {},
   "outputs": [],
   "source": []
  }
 ],
 "metadata": {
  "kernelspec": {
   "display_name": "Python 3",
   "language": "python",
   "name": "python3"
  },
  "language_info": {
   "codemirror_mode": {
    "name": "ipython",
    "version": 3
   },
   "file_extension": ".py",
   "mimetype": "text/x-python",
   "name": "python",
   "nbconvert_exporter": "python",
   "pygments_lexer": "ipython3",
   "version": "3.8.8"
  }
 },
 "nbformat": 4,
 "nbformat_minor": 5
}
